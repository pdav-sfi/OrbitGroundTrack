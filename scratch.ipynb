{
 "cells": [
  {
   "cell_type": "code",
   "execution_count": 2,
   "metadata": {},
   "outputs": [],
   "source": [
    "from sgp4.earth_gravity import wgs72\n",
    "from sgp4.io import twoline2rv\n",
    "from skyfield.sgp4lib import TEME_to_ITRF\n",
    "from skyfield.api import load as skyfield_load\n",
    "import datetime\n",
    "import pymap3d\n",
    "import numpy as np\n",
    "from shapely import geometry\n",
    "import geopandas as gpd"
   ]
  },
  {
   "cell_type": "code",
   "execution_count": 3,
   "metadata": {},
   "outputs": [],
   "source": [
    "G1_TLE = [\"1 43730U 18096M   19263.77135048  .00000515  00000-0  22250-4 0  9993\",\n",
    "          \"2 43730  97.4553 333.8276 0020037   9.3158 350.8449 15.26869367 45108\"]\n",
    "G2_TLE = [\"1 43812U 18099BG  19264.16418962  .00000060  00000-0  10634-4 0  9998\",\n",
    "          \"2 43812  97.7354 334.9858 0014097  21.3762 338.8045 14.95420297 43132\"]\n",
    "G3_TLE = [\"1 44367U 19037C   19263.24019284  .00001613  00000-0  51514-4 0  9996\",\n",
    "          \"2 44367  45.0113 188.9917 0009622  34.2602 325.8905 15.37721792 12783\"]\n",
    "G4_TLE = [\"1 44499U 19054E   19264.20700450 -.00000104  00000-0  91357-5 0  9995\",\n",
    "          \"2 44499  45.0168 282.3238 0007537  97.4852 305.3036 15.07651419  4925\"]"
   ]
  },
  {
   "cell_type": "code",
   "execution_count": 4,
   "metadata": {},
   "outputs": [],
   "source": [
    "G2 = twoline2rv(G2_TLE[0], G2_TLE[1], wgs72)"
   ]
  },
  {
   "cell_type": "code",
   "execution_count": 5,
   "metadata": {},
   "outputs": [],
   "source": [
    "epoch = datetime.datetime(2019,9,23)\n",
    "delta = datetime.timedelta(minutes=1)\n",
    "\n",
    "time_arr = [epoch + n*delta for n in range(1440)]\n",
    "\n",
    "ts = skyfield_load.timescale()\n",
    "epoch_ut1 = ts.ut1(epoch.year, epoch.month, epoch.day, epoch.hour, epoch.minute, epoch.second)"
   ]
  },
  {
   "cell_type": "code",
   "execution_count": 7,
   "metadata": {},
   "outputs": [],
   "source": [
    "pos_teme = []\n",
    "vel_teme = []\n",
    "for time in time_arr:\n",
    "    pos, vel = G2.propagate(time.year, time.month, time.day, time.hour, time.minute, time.second)\n",
    "    \n",
    "    pos_teme.append(pos)\n",
    "    vel_teme.append(vel)\n",
    "    \n",
    "pos_teme = np.array(pos_teme)\n",
    "vel_teme = np.array(vel_teme)"
   ]
  },
  {
   "cell_type": "code",
   "execution_count": 8,
   "metadata": {},
   "outputs": [],
   "source": [
    "pos_icrf, vel_icrf = TEME_to_ITRF(epoch_ut1.tt, pos_teme.transpose(), vel_teme.transpose()*86400)"
   ]
  },
  {
   "cell_type": "code",
   "execution_count": 10,
   "metadata": {},
   "outputs": [],
   "source": [
    "pos_ecef = []\n",
    "\n",
    "for idx in range(1440):\n",
    "    eci = pos_icrf[:,idx].reshape(1,3)\n",
    "    t = time_arr[idx]\n",
    "    \n",
    "    ecef = pymap3d.eci2ecef(eci * 1000, t)\n",
    "    pos_ecef.append(ecef)\n",
    "    \n",
    "pos_ecef = np.array(pos_ecef)"
   ]
  },
  {
   "cell_type": "code",
   "execution_count": 11,
   "metadata": {},
   "outputs": [],
   "source": [
    "lat, lon, alt = pymap3d.ecef2geodetic(pos_ecef[:,0], pos_ecef[:,1], pos_ecef[:,2])"
   ]
  },
  {
   "cell_type": "code",
   "execution_count": 12,
   "metadata": {},
   "outputs": [],
   "source": [
    "lon_lat = np.concatenate([lon, lat], axis = 1)"
   ]
  },
  {
   "cell_type": "code",
   "execution_count": 13,
   "metadata": {},
   "outputs": [],
   "source": [
    "s = geometry.LineString(lon_lat)"
   ]
  },
  {
   "cell_type": "code",
   "execution_count": 17,
   "metadata": {},
   "outputs": [],
   "source": [
    "geo = gpd.GeoDataFrame({\"col\": [20]}, geometry=[s])"
   ]
  },
  {
   "cell_type": "code",
   "execution_count": 19,
   "metadata": {},
   "outputs": [],
   "source": [
    "geo.to_file(\"test.geojson\",driver=\"GeoJSON\")"
   ]
  }
 ],
 "metadata": {
  "kernelspec": {
   "display_name": "Python 3",
   "language": "python",
   "name": "python3"
  },
  "language_info": {
   "codemirror_mode": {
    "name": "ipython",
    "version": 3
   },
   "file_extension": ".py",
   "mimetype": "text/x-python",
   "name": "python",
   "nbconvert_exporter": "python",
   "pygments_lexer": "ipython3",
   "version": "3.6.8"
  }
 },
 "nbformat": 4,
 "nbformat_minor": 2
}
